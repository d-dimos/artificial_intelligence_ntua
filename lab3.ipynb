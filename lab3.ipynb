{
  "nbformat": 4,
  "nbformat_minor": 0,
  "metadata": {
    "colab": {
      "name": "AI_lab3_final.ipynb",
      "provenance": [],
      "collapsed_sections": []
    },
    "kernelspec": {
      "display_name": "Python 3",
      "language": "python",
      "name": "python3"
    },
    "language_info": {
      "codemirror_mode": {
        "name": "ipython",
        "version": 3
      },
      "file_extension": ".py",
      "mimetype": "text/x-python",
      "name": "python",
      "nbconvert_exporter": "python",
      "pygments_lexer": "ipython3",
      "version": "3.8.3"
    }
  },
  "cells": [
    {
      "cell_type": "markdown",
      "metadata": {
        "id": "xDt6kFUgdwlu"
      },
      "source": [
        "Δήμος Δημήτρης - 031 17 165 \\\n",
        "Δημόπουλος Χρήστος - 031 17 037 \\\n",
        "\n",
        "Ροή Λ - 7ο Εξάμηνο"
      ]
    },
    {
      "cell_type": "markdown",
      "metadata": {
        "id": "heT7siZWZjQD"
      },
      "source": [
        "# Τεχνητή Νοημοσύνη: Εργαστηριακή Άσκηση 3 \n",
        "Στην άσκηση αυτή θα υλοποιηθούν διάφοροι (σχετικά απλοί) αλγόριθμοι μηχανικής μάθησης για την αναγνώριση ψηφίων από εικόνα στο dataset MNIST. Συγκεκριμένα, θα δίνονται δύο σύνολα δεδομένων $$Ζ_{train}=\\{(x_1,y_1),\\dots,(x_n,y_n)\\}$$ $$Z_{test} = \\{(x_j,y_j),\\dots{,(x_k,y_k)}\\}$$ όπου κάθε $x_i\\in{\\mathbb{R}^p}$ είναι ένα διάνυσμα με τα pixels της κάθε εικόνας και $y_i$ είναι η ετικέτα της εικόνας - ένας ακέραιος στο $[0,9]$. Σε κάθε περίπτωση καλείστε να σχεδιάσετε έναν ταξινομητή, δηλαδή μια απεικόνιση $$f:\\mathbb{R}^p\\rightarrow{[0,9]}$$\n",
        "\n",
        "## 1ο Μέρος: Αξιολόγηση\n",
        "Στο πρώτο μέρος της άσκησης θα υλοποιηθούν συναρτήσεις που θα χρησιμοποιηθούν για την αξιολόγηση των ταξινομητών που θα υλοποιηθούν στα επόμενα μέρη.\n",
        "\n",
        "## 2ο Μέρος: ΚΝΝ\n",
        "Στο δεύτερο μέρος της άσκησης θα υλοποιήσετε τον αλγόριθμο KNN για ταξινόμηση. Υπενθυμίζεται από τις διαφάνειες το πλάνο σχεδιασμού για τον ταξινομητή k κοντινότερων γειτόνων:\n",
        "- Αποθηκεύουμε όλα τα δεδομένα ($Z_{train}$) στη μνήμη\n",
        "  - Τα δεδομένα μπορούν αποθηκευτούν σε έναν πίνακα $n\\times{p}$ με χρήση του numpy\n",
        "- Συγκρίνουμε την είσοδο με τα δεδομένα και βρίσκουμε τα k κοντινότερα ($k<n$) με βάση κάποια απόσταση.\n",
        "  - Όταν μας δίνεται μια \"φρέσκια\" εικόνα ως διάνυσμα από pixels $x_i$ χρειαζόμαστε μια συνάρτηση που να υπολογίζει την απόσταση $d(x_i,x_j)$, όπου $x_j$ είναι το διάνυσμα που αντιστιχεί στα pixels μιας εικόνας από τα δεδομένα εκπαίδευσης. Θα πειραματιστείτε με την ευκλείδια απόσταση και την απόσταση συνημιτόνου. Στη συνέχεια ταξινομούνται τα δεδομένα εκπαίδευσης ως προς την απόστασή τους από το $x_i$ και επιλέγονται τα $k$ κοντινότερα\n",
        "- Δίνουμε στην έξοδο την κλάση στην οποία ανήκει η πλειοψηφία των k κοντινότερων δεδομένων.\n",
        "\n",
        "Αφού κατασκευαστεί ο ταξινομητής θα αξιολογήσετε την επίδοσή του στις 100 πρώτες εικόνες του $Z_{test}$ για κάποιες τιμές του k που θα επιλέξετε εσείς, ξεκινώντας από $k=1$.\n",
        "\n",
        "Στην πράξη πολύ σπάνια θα χρειαστεί να υλοποιήσετε έναν αλγόριθμο μηχανικής μάθησης από το μηδέν, αφού υπάρχουν έτοιμες υλοποιήσεις, π.χ. σε πακέτα της python, οι οποίες είναι βελτιστοποιημένες και εύχρηστες. Το τελευταίο ζητούμενο  στο 1ο μέρος είναι να επαναλάβετε το παραπάνω πείραμα με την έτοιμη υλοποίηση του KNN που παρέχει η βιβλιοθήκη sklearn. Καλείστε να συγκρίνετε τα αποτελέσματα και τους χρόνους εκτέλεσης.\n",
        "\n",
        "## 3ο Μέρος: Naive Bayes\n",
        "Στο τρίτο μέρος της άσκησης θα υλοποιήσετε τον αλγόριθμο Naive Bayes. Ας θυμηθούμε από τις διαφάνειες:\n",
        "\n",
        "**Υποθέσεις:**\n",
        "- Τα χαρακτηριστικά είναι boolean, δηλαδή παίρνουν δύο τιμές\n",
        "  - Για το συγκεκριμένο πρόβλημα μπορούμε να στρογγυλοποιήσουμε τις τιμές των pixels από το $[0.0,1.0]\\rightarrow{\\{0,1\\}}$\n",
        "- Η πιθανότητα ένα στοιχείο με χαρακτηριστικά x να ανήκει στην κλάση i δίνεται από τον τύπο:\n",
        "$$p(i|x)=\\frac{p(i)\\cdot{\\prod_{k=1}^p}p(x^{(k)}|i)}{\\sum_{j=1}^pp(x^{(k)}|j)}$$\n",
        "- Για να ταξινομήσουμε ένα διάνυσμα χαρακτηρστικών x σε μια κλάση i επιλέγουμε την κλάση που μεγιστοποιεί την παραπάνω πιθανότητα\n",
        "  - Μπορούμε για τη σύγκριση να αγνοήσουμε τον παρονομαστή, αφού για όλες τις κλάσεις θα είναι ίδιος\n",
        "\n",
        "## 4ο Μέρος: Perceptron\n",
        "\n",
        "Στο τέταρτο μέρος της άσκησης θα κατασκευάσετε ένα πολυεπίπεδο νευρωνικό δίκτυο. Ο ταξινομητής αυτός θα εκπαιδευτεί στο να ταξινομεί τις εικόνες του mnist σε μια από τις 10 διαφορετικές κλάσεις (από 0 μέχρι 9). Αρχικά θα υλοποιήσετε το μοντέλο αυτό χρησιμοποιώντας αποκλειστικά την βιβλιοθήκη numpy ενώ στην συνέχεια θα χρησιμοποιήσετε μια έτοιμη κλάση για την κατασκευή του ίδιου μοντέλου.  \n",
        "\n",
        "Ας θυμηθούμε από τις διαφάνειες: \n",
        "\n",
        "Κάθε MLP αποτελείται από επίπεδα όπου το κάθε ένα από αυτά χωρίζεται στα παρακάτω μέρη: \n",
        "\n",
        "$$ z(x) = w^Τx + b $$ \n",
        "$$ f(x) = a(z(x))$$ \n",
        "\n",
        "όπου $w$, $b$ είναι τα βάρη του επιπέδου.  Η έξοδος z(x)είναι η απόκριση κάθε νευρώνα πριν την συνάρτηση ενεργοποίησης ενώ η f(x) μετά.  Κάθε επίπεδο συνδέεται με ένα επόμενο του οποίου η είσοδος του αποτελεί την έξοδο (με την συνάρτηση ενεργοποίησης) του προηγούμενου. \n",
        "\n",
        "Στο μέρος αυτό καλείστε να συμπληρώσετε σε ορισμένα σημεία κώδικα ώστε να επιτυγχάνεται αυτή η λειτουργικότητα. Στην συνέχεια θα υλοποιήσετε το ίδιο ακριβώς μοντέλο χρησιμοποιώντας όμως μια έτοιμη βιβλιοθήκη και θα συγκρίνετε τα αποτελέσματά τους (χρόνο, σκορ κ.α.). "
      ]
    },
    {
      "cell_type": "markdown",
      "metadata": {
        "id": "Rvm0mywsZmit"
      },
      "source": [
        "# 1ο Μέρος: Αξιολόγηση\n",
        "\n",
        "Παρακάτω σας δίνεται η κλάση Evaluate, η οποία υπολογίζει διάφορες μετρικές στη μέθοδο get_metrics, εντοπίζει αντικείμενα που ταξινομήθηκαν λάθος και τα εμφανίζει (μέθοδος get_sample_of_wrong) και υπολογίζει και τον πίνακα σύγχυσης (confusion matrix) όπου οπτικοποιούνται ανά κατηγορία οι προβλέψεις του ταξινομητή.\n",
        "\n",
        "Για το μέρος αυτό καλείστε να υλοποιήσετε στη μέθοδο my_accuracy τη μετρική accuracy, η οποία ορίζεται ως:\n",
        "$$accuracy = \\frac{\\#σωστών\\_προβλέψεων}{\\#δεδομένα}$$\n",
        "\n"
      ]
    },
    {
      "cell_type": "code",
      "metadata": {
        "id": "WlTj48uFZhyJ"
      },
      "source": [
        "from sklearn.metrics import confusion_matrix, f1_score, precision_score, recall_score\n",
        "from matplotlib import pyplot as plt\n",
        "import numpy as np\n",
        "import random\n",
        "\n",
        "class Evaluate:\n",
        "    def __init__(self,y_true,y_pred,x):\n",
        "      self.y_true = y_true\n",
        "      self.y_pred = y_pred\n",
        "      self.x = x\n",
        "\n",
        "    def my_accuracy(self):\n",
        "      y_true = self.y_true\n",
        "      y_pred = self.y_pred\n",
        "      \n",
        "      ##################\n",
        "      ## Your code below\n",
        "      acc=1\n",
        "      correct = 0\n",
        "      for i in range(len(y_true)):\n",
        "            if y_true[i]==y_pred[i]:\n",
        "                correct = correct+1\n",
        "      acc = correct/(len(y_true))\n",
        "      ## Your code above\n",
        "      ##################\n",
        "      return acc\n",
        "\n",
        "    def get_metrics(self):\n",
        "        precision = precision_score(self.y_true, self.y_pred, average = \"macro\",labels=np.unique(self.y_pred))\n",
        "        recall = recall_score(self.y_true, self.y_pred, average = \"macro\")\n",
        "        f1 = f1_score(self.y_true, self.y_pred, average = \"macro\")\n",
        "        results = {\"precision\" : precision, \"recall\": recall, \"f1\": f1,\"accuracy\":self.my_accuracy()}\n",
        "        return results   \n",
        "    \n",
        "    def confusion_matrix(self):\n",
        "        cm = confusion_matrix(self.y_true, self.y_pred)\n",
        "        return cm \n",
        "\n",
        "    def get_sample_of_wrong(self, rows = 5, lines = 4):\n",
        "        wrong_indexes = [index for index in range(len(self.y_true)) if self.y_true[index] != self.y_pred[index]]\n",
        "        plt.figure(figsize=(10, 10))\n",
        "\n",
        "        random.shuffle(wrong_indexes)\n",
        "        for i, index in enumerate(wrong_indexes[: rows*lines]):\n",
        "            plt.subplot(rows, lines, i + 1)\n",
        "            image = self.x[index]\n",
        "            plt.imshow(image.reshape((28, 28)))\n",
        "            plt.title(\"Real: {}, Pred: {}\".format(self.y_true[index], self.y_pred[index]))\n",
        "            plt.axis('off')\n",
        "\n",
        "    def get_evaluation_report(self):\n",
        "       metrics = self.get_metrics()\n",
        "       for m in metrics:\n",
        "         print(m+' : '+str(metrics[m]))\n",
        "       cm = self.confusion_matrix()\n",
        "       print(\"Confusion matrix: \")\n",
        "       print(cm)\n",
        "       print(\"Some images with wrong predictions\")\n",
        "       self.get_sample_of_wrong()"
      ],
      "execution_count": 68,
      "outputs": []
    },
    {
      "cell_type": "markdown",
      "metadata": {
        "id": "3qcSvLy6ZpzB"
      },
      "source": [
        "Παράδειγμα χρήσης της κλάσης. Κανονικά στο x θα υπάρχουν οι εικόνες από το dataset"
      ]
    },
    {
      "cell_type": "code",
      "metadata": {
        "colab": {
          "base_uri": "https://localhost:8080/",
          "height": 294
        },
        "id": "S5hRZ9L1ZoNJ",
        "outputId": "063a95f0-3bad-47fc-c86f-72f177d7fe88"
      },
      "source": [
        "y_true = [1,0,2,0,0,1,1,0]\n",
        "y_pred = [0,0,2,0,1,1,0,0]\n",
        "x = np.random.rand(8,28*28)\n",
        "\n",
        "eval = Evaluate(y_true,y_pred,x)\n",
        "eval.get_evaluation_report()"
      ],
      "execution_count": 69,
      "outputs": [
        {
          "output_type": "stream",
          "text": [
            "precision : 0.7000000000000001\n",
            "recall : 0.6944444444444443\n",
            "f1 : 0.6888888888888888\n",
            "accuracy : 0.625\n",
            "Confusion matrix: \n",
            "[[3 1 0]\n",
            " [2 1 0]\n",
            " [0 0 1]]\n",
            "Some images with wrong predictions\n"
          ],
          "name": "stdout"
        },
        {
          "output_type": "display_data",
          "data": {
            "image/png": "[encoded data removed]",
            "text/plain": [
              "<Figure size 720x720 with 3 Axes>"
            ]
          },
          "metadata": {
            "tags": [],
            "needs_background": "light"
          }
        }
      ]
    },
    {
      "cell_type": "markdown",
      "metadata": {
        "id": "h9Sex6aEZtt9"
      },
      "source": [
        "# Dataset\n",
        "\n",
        "To MNIST είναι από τα πιο διαδεδομένα σύνολα δεδομένων στη μηχανική μάθηση. Για όσους δουλεύουν στο Google Colab, το κελί που ακολουθεί φορτώνει τα δεδομένα εκπαίδευσης σε έναν πίνακα x_train με τις ετικέτες των δεδομένων στη λίστα y_train, και τα testing δεδομένα αντίστοιχα στα x_test και y_test.\n",
        "\n",
        "\n",
        "Για όσους δεν δουλεύουν στο colab μπορούν να αντικαταστήσουν τις δύο πρώτες γραμμές του κελιού (train_dset = ... και test_dset = ... ) με τον παρακάτω κώδικα:\n",
        "```\n",
        "mnist_dataframe = pd.read_csv(\n",
        "  \"https://download.mlcc.google.com/mledu-datasets/mnist_train_small.csv\",\n",
        "  sep=\",\",\n",
        "  header=None)\n",
        "mnist_dataframe = mnist_dataframe.head(10000)\n",
        "\n",
        "mnist_dataframe = mnist_dataframe.reindex(np.random.permutation(mnist_dataframe.index))\n",
        "train_dset = mnist_dataframe[:7500]\n",
        "test_dset = mnist_dataframe[7500:10000]\n",
        "```"
      ]
    },
    {
      "cell_type": "code",
      "metadata": {
        "id": "YvbVV9isZrwZ"
      },
      "source": [
        "import pandas as pd\n",
        "import numpy as np\n",
        "from matplotlib import pyplot as plt\n",
        "\n",
        "train_dset = pd.read_csv('/content/sample_data/mnist_train_small.csv',header=None)\n",
        "test_dset = pd.read_csv('/content/sample_data/mnist_test.csv',header=None)\n",
        "\n",
        "## From https://colab.research.google.com/notebooks/mlcc/multi-class_classification_of_handwritten_digits.ipynb#scrollTo=JfFWWvMWDFrR\n",
        "def parse_labels_and_features(dataset):\n",
        "  \"\"\"Extracts labels and features.\n",
        "  \n",
        "  This is a good place to scale or transform the features if needed.\n",
        "  \n",
        "  Args:\n",
        "    dataset: A Pandas `Dataframe`, containing the label on the first column and\n",
        "      monochrome pixel values on the remaining columns, in row major order.\n",
        "  Returns:\n",
        "    A `tuple` `(labels, features)`:\n",
        "      labels: A Pandas `Series`.\n",
        "      features: A Pandas `DataFrame`.\n",
        "  \"\"\"\n",
        "  labels = dataset[0]\n",
        "\n",
        "  # DataFrame.loc index ranges are inclusive at both ends.\n",
        "  features = dataset.loc[:,1:784]\n",
        "  # Scale the data to [0, 1] by dividing out the max value, 255.\n",
        "  features = features / 255\n",
        "\n",
        "  return labels, np.array(features) ##MUST BE NP.ARRAY\n",
        "\n",
        "def show_image(features):\n",
        "  img = features.reshape((28,28))\n",
        "  plt.imshow(img)\n",
        "  plt.show()\n",
        "\n",
        "y_train,x_train = parse_labels_and_features(train_dset)\n",
        "y_test,x_test = parse_labels_and_features(test_dset)"
      ],
      "execution_count": 70,
      "outputs": []
    },
    {
      "cell_type": "markdown",
      "metadata": {
        "id": "B4MX_WMeZwRu"
      },
      "source": [
        "Ποια είναι η μορφή των δεδομένων για μια εικόνα;"
      ]
    },
    {
      "cell_type": "code",
      "metadata": {
        "colab": {
          "base_uri": "https://localhost:8080/"
        },
        "id": "FhDzmllUZvyp",
        "outputId": "bcb3ebb2-9a37-4cfc-f0c5-f2fc76371375"
      },
      "source": [
        "print(\"Shape of an image: \"+str(x_train[0].shape))\n",
        "print(\"Max value of pixel: \"+str(np.max(x_train[0])))"
      ],
      "execution_count": 71,
      "outputs": [
        {
          "output_type": "stream",
          "text": [
            "Shape of an image: (784,)\n",
            "Max value of pixel: 1.0\n"
          ],
          "name": "stdout"
        }
      ]
    },
    {
      "cell_type": "markdown",
      "metadata": {
        "id": "B9B0hgyBZ3Vm"
      },
      "source": [
        "Φορτώνουμε μια τυχαία εικόνα και την εμφανίζουμε, μαζί με την ετικέτα της"
      ]
    },
    {
      "cell_type": "code",
      "metadata": {
        "colab": {
          "base_uri": "https://localhost:8080/",
          "height": 282
        },
        "id": "r3eLiC1nZ00c",
        "outputId": "76a229d4-cf64-46bf-f3f1-e694d5e8bcaa"
      },
      "source": [
        "i = np.random.randint(0,x_train.shape[0])\n",
        "show_image(x_train[i])\n",
        "print(\"Label = \" +str(y_train[i]))\n"
      ],
      "execution_count": 72,
      "outputs": [
        {
          "output_type": "display_data",
          "data": {
            "image/png": "[encoded data removed]",
            "text/plain": [
              "<Figure size 432x288 with 1 Axes>"
            ]
          },
          "metadata": {
            "tags": [],
            "needs_background": "light"
          }
        },
        {
          "output_type": "stream",
          "text": [
            "Label = 1\n"
          ],
          "name": "stdout"
        }
      ]
    },
    {
      "cell_type": "markdown",
      "metadata": {
        "id": "bYMke4uRZ8Ae"
      },
      "source": [
        "# 2o Μέρος: Υλοποίηση KNN\n",
        "\n",
        " Σας δίνεται η κλάση KNN η οποία αρχικοποιείται με ένα σύνολο από δεδομένα x, ετικέτες y και το k για τον αλγόριθμο. Καλείστε να συμπληρώσετε τον κώδικα που λείπει στις μεθόδους distance, get_knn και classify.\n",
        "\n",
        "Η απόσταση συνημιτόνου μεταξύ δύο διανυσμάτων u,v ορίζεται ως: $$d(u,v)= 1 - \\frac{u\\cdot{v}}{||u||_2||v||_2}$$"
      ]
    },
    {
      "cell_type": "code",
      "metadata": {
        "id": "EMPfT1jTZ51F"
      },
      "source": [
        "def most_frequent(List): \n",
        "    dict = {} \n",
        "    count, itm = 0, '' \n",
        "    for item in reversed(List): \n",
        "        dict[item] = dict.get(item, 0) + 1\n",
        "        if dict[item] >= count : \n",
        "            count, itm = dict[item], item \n",
        "    return(itm)\n",
        "\n",
        "## Simple KNN\n",
        "\n",
        "class KNN:\n",
        "  def __init__(self,x,y,k,distance=\"euclidian\"):\n",
        "    self.x = x\n",
        "    self.y = y\n",
        "    self.k = k\n",
        "    self.distance = distance\n",
        "  \n",
        "  \n",
        "  ## Compute the distance between the two vectors img1 and img2\n",
        "  # hint: use np.linalg.norm for eucledian\n",
        "  # hint: use equation given above for cosine\n",
        "  def get_distance(self,img1,img2):\n",
        "    if self.distance=='euclidian':\n",
        "      ##################\n",
        "      ## Your code below\n",
        "      dist = np.linalg.norm(img1-img2)\n",
        "      ## Your code above\n",
        "      ##################\n",
        "    elif self.distance=='cosine':\n",
        "      ##################\n",
        "      ## Your code below\n",
        "      dist = 1-(np.dot(img1, img2)/(np.linalg.norm(img1)*np.linalg.norm(img2)))\n",
        "      ## Your code above\n",
        "      ##################\n",
        "      pass\n",
        "\n",
        "    return dist\n",
        "\n",
        "\n",
        "  ## Given an image as a vector, returns indexes of k nearest neighbors\n",
        "  def get_knn(self,img):\n",
        "    distances = list()\n",
        "    x = self.x\n",
        "    k = self.k\n",
        "    \n",
        "    ##################\n",
        "    ## Your code below - populate the distances list\n",
        "    # hint: you can use a for loop\n",
        "    for i in x:\n",
        "        dist = self.get_distance(i, img)\n",
        "        distances.append(dist)\n",
        "    ## Your code above\n",
        "    ##################\n",
        "\n",
        "    # Sort distances, and return the indexes of k first elements\n",
        "    ans_indexes = np.argsort(distances)[:k]\n",
        "    return ans_indexes\n",
        "\n",
        "\n",
        "  ## Given an image as a vector, classify it according to KNN\n",
        "  # hint: we have a list of k labels and want to return the most common one\n",
        "  def classify(self,img):\n",
        "    y = self.y\n",
        "    nn_labels = [y[i] for i in self.get_knn(img)]\n",
        "    \n",
        "    ##################\n",
        "    ## Your code below\n",
        "\n",
        "    # Make prediction by calculating the mean of the output values from the nearest neighbors\n",
        "    # See above for function most_frequent()\n",
        "    prediction = most_frequent(nn_labels)\n",
        "    \n",
        "    ## Your code above\n",
        "    ###################\n",
        "    return prediction\n",
        "\n",
        "\n",
        "knn = KNN(x_train,y_train,k=5,distance='euclidian')"
      ],
      "execution_count": 73,
      "outputs": []
    },
    {
      "cell_type": "markdown",
      "metadata": {
        "id": "B8-o5tn3aH0-"
      },
      "source": [
        "Τώρα που είναι έτοιμος ο ταξινομητής ας δούμε τι προβλέπει σε μεμονομένες εικόνες"
      ]
    },
    {
      "cell_type": "code",
      "metadata": {
        "colab": {
          "base_uri": "https://localhost:8080/",
          "height": 299
        },
        "id": "GTj_vqD5Z-Ex",
        "outputId": "ca95a4a6-eafb-425f-acc5-72786a676830"
      },
      "source": [
        "img = x_test[np.random.randint(0,x_test.shape[0])]\n",
        "print(\"Input image: \")\n",
        "show_image(img)\n",
        "print('Prediction : '+str(knn.classify(img)))"
      ],
      "execution_count": 74,
      "outputs": [
        {
          "output_type": "stream",
          "text": [
            "Input image: \n"
          ],
          "name": "stdout"
        },
        {
          "output_type": "display_data",
          "data": {
            "image/png": "[encoded data removed]",
            "text/plain": [
              "<Figure size 432x288 with 1 Axes>"
            ]
          },
          "metadata": {
            "tags": [],
            "needs_background": "light"
          }
        },
        {
          "output_type": "stream",
          "text": [
            "Prediction : 9\n"
          ],
          "name": "stdout"
        }
      ]
    },
    {
      "cell_type": "markdown",
      "metadata": {
        "id": "XCiEi1UUaLzE"
      },
      "source": [
        "## Αξιολόγηση του KNN"
      ]
    },
    {
      "cell_type": "code",
      "metadata": {
        "id": "tKw0oa1jaJei",
        "colab": {
          "base_uri": "https://localhost:8080/",
          "height": 413
        },
        "outputId": "e112339a-a8b1-4e6d-e0ef-1cf0eeb3104e"
      },
      "source": [
        "## Παίρνουμε όλες τις προβλέψεις στο test set (πρώτες 100 εικόνες)\n",
        "## ..υπομονή μερικά λεπτά\n",
        "## Eucidean Distance\n",
        "preds = [knn.classify(x_test[i]) for i in range(100)]\n",
        "labels = [y_test[i] for i in range(100)]\n",
        "eval = Evaluate(labels,preds,x_test[:100])\n",
        "eval.get_evaluation_report()"
      ],
      "execution_count": 43,
      "outputs": [
        {
          "output_type": "stream",
          "text": [
            "precision : 0.9749019607843138\n",
            "recall : 0.9568181818181818\n",
            "f1 : 0.962567733990148\n",
            "accuracy : 0.96\n",
            "Confusion matrix: \n",
            "[[ 8  0  0  0  0  0  0  0  0  0]\n",
            " [ 0 14  0  0  0  0  0  0  0  0]\n",
            " [ 0  1  6  0  0  0  0  1  0  0]\n",
            " [ 0  0  0 11  0  0  0  0  0  0]\n",
            " [ 0  0  0  0 14  0  0  0  0  0]\n",
            " [ 0  0  0  0  0  7  0  0  0  0]\n",
            " [ 0  0  0  0  0  0 10  0  0  0]\n",
            " [ 0  0  0  0  0  0  0 15  0  0]\n",
            " [ 0  0  0  0  0  0  0  0  2  0]\n",
            " [ 0  0  0  0  1  0  0  1  0  9]]\n",
            "Some images with wrong predictions\n"
          ],
          "name": "stdout"
        },
        {
          "output_type": "display_data",
          "data": {
            "image/png": "[encoded data removed]",
            "text/plain": [
              "<Figure size 720x720 with 4 Axes>"
            ]
          },
          "metadata": {
            "tags": [],
            "needs_background": "light"
          }
        }
      ]
    },
    {
      "cell_type": "code",
      "metadata": {
        "colab": {
          "base_uri": "https://localhost:8080/",
          "height": 413
        },
        "id": "BhuHaGh_Yg2B",
        "outputId": "8d702368-0ecf-486d-ea70-cb88cd0e9473"
      },
      "source": [
        "# Cosine Similarity\n",
        "knn = KNN(x_train,y_train,k=5,distance='cosine')\n",
        "preds = [knn.classify(x_test[i]) for i in range(100)]\n",
        "labels = [y_test[i] for i in range(100)]\n",
        "eval = Evaluate(labels,preds,x_test[:100])\n",
        "eval.get_evaluation_report()"
      ],
      "execution_count": 44,
      "outputs": [
        {
          "output_type": "stream",
          "text": [
            "precision : 0.9888888888888889\n",
            "recall : 0.9928571428571429\n",
            "f1 : 0.9904139433551198\n",
            "accuracy : 0.99\n",
            "Confusion matrix: \n",
            "[[ 8  0  0  0  0  0  0  0  0  0]\n",
            " [ 0 14  0  0  0  0  0  0  0  0]\n",
            " [ 0  0  8  0  0  0  0  0  0  0]\n",
            " [ 0  0  0 11  0  0  0  0  0  0]\n",
            " [ 1  0  0  0 13  0  0  0  0  0]\n",
            " [ 0  0  0  0  0  7  0  0  0  0]\n",
            " [ 0  0  0  0  0  0 10  0  0  0]\n",
            " [ 0  0  0  0  0  0  0 15  0  0]\n",
            " [ 0  0  0  0  0  0  0  0  2  0]\n",
            " [ 0  0  0  0  0  0  0  0  0 11]]\n",
            "Some images with wrong predictions\n"
          ],
          "name": "stdout"
        },
        {
          "output_type": "display_data",
          "data": {
            "image/png": "[encoded data removed]",
            "text/plain": [
              "<Figure size 720x720 with 1 Axes>"
            ]
          },
          "metadata": {
            "tags": [],
            "needs_background": "light"
          }
        }
      ]
    },
    {
      "cell_type": "markdown",
      "metadata": {
        "id": "V7LP247HaU6m"
      },
      "source": [
        "## Έτοιμος ΚΝΝ classifier\n",
        "\n",
        "Όπως και με τους περισσότερους αλγορίθμους μηχανικής μάθησης, υπάρχουν έτοιμες βελτιστοποιημένες υλοποιήσεις. Παρακάτω δείχνουμε ένα παράδειγμα χρήσης του ταξινομητή ΚΝΝ που παρέχει η βιβλιοθήκη sklearn: [documentation](https://scikit-learn.org/stable/modules/generated/sklearn.neighbors.KNeighborsClassifier.html)"
      ]
    },
    {
      "cell_type": "code",
      "metadata": {
        "colab": {
          "base_uri": "https://localhost:8080/",
          "height": 413
        },
        "id": "Os0WCL-QaOnr",
        "outputId": "e7157c59-426c-4a8d-88a6-e1a593ba3f5a"
      },
      "source": [
        "from sklearn.neighbors import KNeighborsClassifier\n",
        "\n",
        "k = 5\n",
        "## The default metric is minkowski, and with p=2 is equivalent to the standard Euclidean metric.\n",
        "knc = KNeighborsClassifier(n_neighbors=k)\n",
        "knc.fit(x_train, y_train)\n",
        "y_pred = knc.predict(x_test[:100])\n",
        "\n",
        "eval = Evaluate(y_test[:100],y_pred,x_test[:100])\n",
        "eval.get_evaluation_report()"
      ],
      "execution_count": 45,
      "outputs": [
        {
          "output_type": "stream",
          "text": [
            "precision : 0.9749019607843138\n",
            "recall : 0.9568181818181818\n",
            "f1 : 0.962567733990148\n",
            "accuracy : 0.96\n",
            "Confusion matrix: \n",
            "[[ 8  0  0  0  0  0  0  0  0  0]\n",
            " [ 0 14  0  0  0  0  0  0  0  0]\n",
            " [ 0  1  6  0  0  0  0  1  0  0]\n",
            " [ 0  0  0 11  0  0  0  0  0  0]\n",
            " [ 0  0  0  0 14  0  0  0  0  0]\n",
            " [ 0  0  0  0  0  7  0  0  0  0]\n",
            " [ 0  0  0  0  0  0 10  0  0  0]\n",
            " [ 0  0  0  0  0  0  0 15  0  0]\n",
            " [ 0  0  0  0  0  0  0  0  2  0]\n",
            " [ 0  0  0  0  1  0  0  1  0  9]]\n",
            "Some images with wrong predictions\n"
          ],
          "name": "stdout"
        },
        {
          "output_type": "display_data",
          "data": {
            "image/png": "[encoded data removed]",
            "text/plain": [
              "<Figure size 720x720 with 4 Axes>"
            ]
          },
          "metadata": {
            "tags": [],
            "needs_background": "light"
          }
        }
      ]
    },
    {
      "cell_type": "markdown",
      "metadata": {
        "id": "RcUBX2XMaZUd"
      },
      "source": [
        "## Σύκγριση υλοποιήσεων\n",
        "\n",
        "Στα παρακάτω κελιά πειραματιστείτε με τις δύο υλοποιήσεις (τη δική σας και την έτοιμη). Βεβαιωθείτε πως προκύπτουν τα ίδια αποτελέσματα για διάφορες τιμές του k (για ευκλείδια απόσταση) και μετρήστε τους χρόνους εκτέλεσης."
      ]
    },
    {
      "cell_type": "code",
      "metadata": {
        "colab": {
          "base_uri": "https://localhost:8080/"
        },
        "id": "8Yz_Y_cpaWor",
        "outputId": "a7179260-09c4-4823-aabc-ad85ba57c88e"
      },
      "source": [
        "%%time\n",
        "knn = KNN(x_train,y_train,k=5,distance='euclidian')\n",
        "preds = [knn.classify(x_test[i]) for i in range(100)]"
      ],
      "execution_count": 46,
      "outputs": [
        {
          "output_type": "stream",
          "text": [
            "CPU times: user 22.1 s, sys: 4.87 ms, total: 22.1 s\n",
            "Wall time: 22.1 s\n"
          ],
          "name": "stdout"
        }
      ]
    },
    {
      "cell_type": "code",
      "metadata": {
        "colab": {
          "base_uri": "https://localhost:8080/"
        },
        "id": "CDaupdW1Yg2C",
        "outputId": "115adb3e-769e-47cb-ff33-2b951c65f3d5"
      },
      "source": [
        "%%time\n",
        "knn = KNN(x_train,y_train,k=5,distance='cosine')\n",
        "preds = [knn.classify(x_test[i]) for i in range(100)]"
      ],
      "execution_count": 47,
      "outputs": [
        {
          "output_type": "stream",
          "text": [
            "CPU times: user 39.9 s, sys: 8.72 ms, total: 39.9 s\n",
            "Wall time: 40 s\n"
          ],
          "name": "stdout"
        }
      ]
    },
    {
      "cell_type": "code",
      "metadata": {
        "colab": {
          "base_uri": "https://localhost:8080/"
        },
        "id": "77s6o3ZkabCY",
        "outputId": "d71e9ce8-8416-4ff9-b325-985672b08e7e"
      },
      "source": [
        "%%time\n",
        "knc = KNeighborsClassifier(n_neighbors=5)\n",
        "knc.fit(x_train, y_train)\n",
        "y_pred = knc.predict(x_test[:100])"
      ],
      "execution_count": 48,
      "outputs": [
        {
          "output_type": "stream",
          "text": [
            "CPU times: user 8.54 s, sys: 23 ms, total: 8.57 s\n",
            "Wall time: 8.58 s\n"
          ],
          "name": "stdout"
        }
      ]
    },
    {
      "cell_type": "markdown",
      "metadata": {
        "id": "bc9ySKoRaek-"
      },
      "source": [
        "## Σχολιασμός\n",
        "\n",
        "Συγκεντρωτικά, έχουμε τα εξής πειραματικά αποτελέσματα:\n",
        "\n",
        "1) **Manual** Υλοποίηση KNN με K = 5 και **euclidean** απόσταση: \\\n",
        "\n",
        " accuracy: 96% \\\n",
        " average running time: 22 sec \\\n",
        "\n",
        " 2) **Manual** Υλοποίηση KNN με K = 5 και **cosine similarity** απόσταση: \\\n",
        "\n",
        " accuracy: 99% \\\n",
        " average running time: 41 sec \\\n",
        "\n",
        " 3) Υλοποίηση **sklearn** ΚΝΝ με K = 5 και default απόσταση (**euclidean**): \\\n",
        "\n",
        " accuracy: 96% \\\n",
        " average running time: 7 sec \\\n",
        "\n",
        " Επομένως, διαπιστώνουμε ότι η manual υλοποίηση του KNN classifier είναι **αισθητά πιο αργή** από την έτοιμη της sklearn, ενώ τα αποτελέσματα όλων των μετρικών που προκύπτουν χρησιμοποιώντας την ίδια συνάρτηση απόστασης (ευκλείδια) είναι **πανομοιότυπα**. \\\n",
        "\n",
        " Επιπλέον, με χρήση της απόστασης cosine similarity τα αποτελέσματα της manual υλοποίησης φαίνεται να προσεγγίζουν το 100% με **μια μονάχα** λάνθασμένη ταξινόμηση. Το **tradeoff** για την αύξηση των μετρικών επίδοσης με χρήση της cosine similarity είναι η **σημαντική προσαύξηση του running time**.\n"
      ]
    },
    {
      "cell_type": "markdown",
      "metadata": {
        "id": "Xe17UwwLag5Y"
      },
      "source": [
        "# 3ο Μέρος: Naive Bayes\n",
        "\n",
        "Αρχικά στρογγυλοποιούμε τις τιμές των pixels για να παίρνουν διακριτές τιμές στο $\\{0,1\\}$"
      ]
    },
    {
      "cell_type": "code",
      "metadata": {
        "colab": {
          "base_uri": "https://localhost:8080/",
          "height": 265
        },
        "id": "GNbBhsg2ach8",
        "outputId": "e5813bd4-9709-4ff5-8af1-2841d99126a4"
      },
      "source": [
        "## Στρογγυλοποίηση:\n",
        "x_train_r = np.round(x_train)\n",
        "x_test_r = np.round(x_test)\n",
        "show_image(x_test_r[0])"
      ],
      "execution_count": 49,
      "outputs": [
        {
          "output_type": "display_data",
          "data": {
            "image/png": "[encoded data removed]",
            "text/plain": [
              "<Figure size 432x288 with 1 Axes>"
            ]
          },
          "metadata": {
            "tags": [],
            "needs_background": "light"
          }
        }
      ]
    },
    {
      "cell_type": "markdown",
      "metadata": {
        "id": "lFORd6XJakZl"
      },
      "source": [
        "Παρακάτω σας δίνεται η κλάση NaiveBayes που υλοποιεί τον αλγόριθμο. Καλείστε αρχικά να υπολογίσετε την πιθανότητα $p(x^{(k)}|i)$ για διάνυσμα χαρακτηριστκών $x$ και κατηγορία $i$ στη μέθοδο compute_probabilities. Στη συνέχεια θα υπολογίσετε την πιθανότητα $p(i|x)$ στη μέθοδο predict."
      ]
    },
    {
      "cell_type": "code",
      "metadata": {
        "id": "ufKo5f5yaiqH"
      },
      "source": [
        "class NaiveBayes:\n",
        "  def __init__(self,x,y):\n",
        "    self.x = x\n",
        "    self.y = y\n",
        "    ## pC is a vector with the probability of each class\n",
        "    self.pC = np.zeros((10,))\n",
        "    ## pxC is an array with all probabilities p(xi|C)\n",
        "    self.pxC = np.zeros((x.shape[-1],10))\n",
        "    ## Compute the probabilities\n",
        "    self.compute_probabilities()\n",
        "\n",
        "  def compute_probabilities(self):\n",
        "    ## Compute p(C) for each class\n",
        "    for label in self.y:\n",
        "      self.pC[label]+=1\n",
        "    self.pC = self.pC/self.y.shape[0]\n",
        "\n",
        "    # calculate how population of each class\n",
        "    uni_ele, counts_elements = np.unique(self.y, return_counts=True)\n",
        "\n",
        "    ## Compute p(xi|C) for each feature xi and class C\n",
        "    # hint: you can use one or more for loops\n",
        "    ###################\n",
        "    ## Your code below\n",
        "    for i in range(self.x.shape[0]):\n",
        "      for j in range(self.x.shape[-1]):\n",
        "        self.pxC[j][self.y[i]] += self.x[i][j]\n",
        "    \n",
        "    for col in range(self.pxC.shape[1]): \n",
        "      self.pxC[:, col] = self.pxC[:, col]/counts_elements[col]\n",
        "\n",
        "    ## Your code above\n",
        "    ##################\n",
        "\n",
        "  def predict(self,x):\n",
        "    ## ~Probability of x belonging to each class\n",
        "    ## (not actucal probability since we ignore denominator)\n",
        "    pcX = np.ones((10,))\n",
        "    for i in range(10):\n",
        "      # hint: We have probabilities p({x_j=1}|i) in self.pxC\n",
        "      # We also need p({x_j=0}|i) for computing p(x|i)\n",
        "      #################\n",
        "      ## Your code below\n",
        "      prod = 1\n",
        "      for j in range(self.x.shape[-1]):\n",
        "          prod *= self.pxC[j][i] if x[j] else 1 - self.pxC[j][i]\n",
        "      pcX[i] = self.pC[i] * prod\n",
        "      ## Your code above\n",
        "      ##################\n",
        "    return np.argmax(pcX)"
      ],
      "execution_count": 50,
      "outputs": []
    },
    {
      "cell_type": "markdown",
      "metadata": {
        "id": "cO9h_Q8bbAgF"
      },
      "source": [
        "## Αξιολόγηση του Naive Bayes"
      ]
    },
    {
      "cell_type": "code",
      "metadata": {
        "colab": {
          "base_uri": "https://localhost:8080/",
          "height": 767
        },
        "id": "2PzuaP48amDv",
        "outputId": "192f326e-c3ba-4bc5-8629-f1320bde1c21"
      },
      "source": [
        "print(x_train.shape)\n",
        "nb = NaiveBayes(x_train_r,y_train)\n",
        "\n",
        "preds = [ nb.predict(i) for i in x_test_r[:100]]\n",
        "eval = Evaluate(y_test[:100], preds, x_test_r[:100])\n",
        "eval.get_evaluation_report()"
      ],
      "execution_count": 51,
      "outputs": [
        {
          "output_type": "stream",
          "text": [
            "(20000, 784)\n",
            "precision : 0.8400974025974026\n",
            "recall : 0.850108225108225\n",
            "f1 : 0.8261529454950507\n",
            "accuracy : 0.85\n",
            "Confusion matrix: \n",
            "[[ 7  0  0  0  0  0  0  0  1  0]\n",
            " [ 0 13  0  1  0  0  0  0  0  0]\n",
            " [ 0  0  7  1  0  0  0  0  0  0]\n",
            " [ 0  0  1 10  0  0  0  0  0  0]\n",
            " [ 1  0  0  0 12  0  0  0  0  1]\n",
            " [ 0  0  0  2  1  4  0  0  0  0]\n",
            " [ 0  0  2  0  0  0  8  0  0  0]\n",
            " [ 0  0  1  0  0  0  0 13  0  1]\n",
            " [ 0  0  0  0  0  0  0  0  2  0]\n",
            " [ 0  0  0  0  1  0  0  0  1  9]]\n",
            "Some images with wrong predictions\n"
          ],
          "name": "stdout"
        },
        {
          "output_type": "display_data",
          "data": {
            "image/png": "[encoded data removed]",
            "text/plain": [
              "<Figure size 720x720 with 15 Axes>"
            ]
          },
          "metadata": {
            "tags": [],
            "needs_background": "light"
          }
        }
      ]
    },
    {
      "cell_type": "markdown",
      "metadata": {
        "id": "xMUHg-dubFa2"
      },
      "source": [
        "## Έτοιμος Naive Bayes\n",
        "\n",
        "Όπως με τους περισσότερους αλγορίθμους μηχανικής μάθησης, υπάρχουν έτοιμες βελτιστοποιημένες υλοποιήσεις για τον Naive Bayes. Παρακάτω ο Gaussian Naive Bayes από το SKLearn. Σε αντίθεση με τη δική μας υλοποίηση, ο συγκεκριμένος δουλεύει και με συνεχή δεδομένα, αφού πρώτα κάνει την υπόθεση πως κάθε χαρακτηριστικό ακολουθεί κανονική κατανομή: [documentation](https://scikit-learn.org/stable/modules/generated/sklearn.naive_bayes.GaussianNB.html)"
      ]
    },
    {
      "cell_type": "code",
      "metadata": {
        "colab": {
          "base_uri": "https://localhost:8080/",
          "height": 863
        },
        "id": "YhzGsjSSFk-q",
        "outputId": "3d8b23ab-1954-4d3a-95c5-2aea7d24a860"
      },
      "source": [
        "from sklearn.naive_bayes import GaussianNB\n",
        "\n",
        "## Standard library implementation, without any specific parameters\n",
        "\n",
        "gnb = GaussianNB()\n",
        "y_pred = gnb.fit(x_train_r, y_train).predict(x_test_r[:100])\n",
        "\n",
        "eval = Evaluate(y_test[:100], y_pred, x_test_r[:100])\n",
        "eval.get_evaluation_report()"
      ],
      "execution_count": 52,
      "outputs": [
        {
          "output_type": "stream",
          "text": [
            "precision : 0.6413133344505894\n",
            "recall : 0.5655194805194805\n",
            "f1 : 0.4885160894473657\n",
            "accuracy : 0.59\n",
            "Confusion matrix: \n",
            "[[ 8  0  0  0  0  0  0  0  0  0]\n",
            " [ 0 14  0  0  0  0  0  0  0  0]\n",
            " [ 3  0  2  0  0  0  2  0  0  1]\n",
            " [ 0  1  1  2  0  0  1  0  5  1]\n",
            " [ 1  1  0  0  3  0  0  1  0  8]\n",
            " [ 2  0  0  0  1  0  0  0  3  1]\n",
            " [ 0  0  0  0  0  0 10  0  0  0]\n",
            " [ 0  0  1  0  0  0  0  9  0  5]\n",
            " [ 1  0  0  0  0  0  0  0  1  0]\n",
            " [ 0  1  0  0  0  0  0  0  0 10]]\n",
            "Some images with wrong predictions\n"
          ],
          "name": "stdout"
        },
        {
          "output_type": "display_data",
          "data": {
            "image/png": "[encoded data removed]",
            "text/plain": [
              "<Figure size 720x720 with 20 Axes>"
            ]
          },
          "metadata": {
            "tags": [],
            "needs_background": "light"
          }
        }
      ]
    },
    {
      "cell_type": "code",
      "metadata": {
        "colab": {
          "base_uri": "https://localhost:8080/",
          "height": 863
        },
        "id": "Lc7CCDfSbCPh",
        "outputId": "10e47694-ba39-44db-c456-655077d568f4"
      },
      "source": [
        "# GaussianNB function with better smoothing variance\n",
        "\n",
        "gnb = GaussianNB(var_smoothing=0.1) ## better smoothing\n",
        "y_pred = gnb.fit(x_train_r, y_train).predict(x_test_r[:100])\n",
        "\n",
        "eval = Evaluate(y_test[:100], y_pred, x_test_r[:100])\n",
        "eval.get_evaluation_report()"
      ],
      "execution_count": 53,
      "outputs": [
        {
          "output_type": "stream",
          "text": [
            "precision : 0.8148516679399032\n",
            "recall : 0.8113419913419913\n",
            "f1 : 0.7848800401386609\n",
            "accuracy : 0.81\n",
            "Confusion matrix: \n",
            "[[ 7  0  0  0  0  0  0  0  1  0]\n",
            " [ 0 13  0  1  0  0  0  0  0  0]\n",
            " [ 0  0  5  1  0  0  1  0  0  1]\n",
            " [ 0  0  1 10  0  0  0  0  0  0]\n",
            " [ 1  0  0  0  8  0  0  0  0  5]\n",
            " [ 0  0  0  2  1  3  0  1  0  0]\n",
            " [ 0  0  0  0  0  0 10  0  0  0]\n",
            " [ 0  0  0  0  1  0  0 13  0  1]\n",
            " [ 0  0  0  0  0  0  0  0  2  0]\n",
            " [ 0  0  0  0  0  0  0  0  1 10]]\n",
            "Some images with wrong predictions\n"
          ],
          "name": "stdout"
        },
        {
          "output_type": "display_data",
          "data": {
            "image/png": "[encoded data removed]",
            "text/plain": [
              "<Figure size 720x720 with 19 Axes>"
            ]
          },
          "metadata": {
            "tags": [],
            "needs_background": "light"
          }
        }
      ]
    },
    {
      "cell_type": "code",
      "metadata": {
        "colab": {
          "base_uri": "https://localhost:8080/",
          "height": 863
        },
        "id": "4tc6NLeYF9wr",
        "outputId": "1adc0087-b30e-4bbb-c467-65cca62d11a5"
      },
      "source": [
        "from sklearn.naive_bayes import MultinomialNB\n",
        "\n",
        "# MultinomailNB function\n",
        "\n",
        "gnb = MultinomialNB()\n",
        "y_pred = gnb.fit(x_train_r, y_train).predict(x_test_r[:100])\n",
        "\n",
        "eval = Evaluate(y_test[:100], y_pred, x_test_r[:100])\n",
        "eval.get_evaluation_report()"
      ],
      "execution_count": 54,
      "outputs": [
        {
          "output_type": "stream",
          "text": [
            "precision : 0.8063095238095237\n",
            "recall : 0.7972510822510823\n",
            "f1 : 0.7554398180676953\n",
            "accuracy : 0.8\n",
            "Confusion matrix: \n",
            "[[ 7  0  0  0  0  0  0  0  1  0]\n",
            " [ 0 12  0  1  0  0  0  0  1  0]\n",
            " [ 0  0  7  1  0  0  0  0  0  0]\n",
            " [ 0  0  1 10  0  0  0  0  0  0]\n",
            " [ 1  0  0  0 11  0  0  0  0  2]\n",
            " [ 0  0  0  3  1  2  0  0  1  0]\n",
            " [ 0  0  2  0  1  0  7  0  0  0]\n",
            " [ 0  0  0  0  1  0  0 13  0  1]\n",
            " [ 0  0  0  0  0  0  0  0  2  0]\n",
            " [ 0  0  0  0  0  0  0  0  2  9]]\n",
            "Some images with wrong predictions\n"
          ],
          "name": "stdout"
        },
        {
          "output_type": "display_data",
          "data": {
            "image/png": "[encoded data removed]",
            "text/plain": [
              "<Figure size 720x720 with 20 Axes>"
            ]
          },
          "metadata": {
            "tags": [],
            "needs_background": "light"
          }
        }
      ]
    },
    {
      "cell_type": "markdown",
      "metadata": {
        "id": "KaecLreybI-3"
      },
      "source": [
        "## Σύγκριση υλοποιήσεων\n",
        "\n",
        "Όμοια με πριν θα συγκρίνετε τα αποτελέσματα και τους χρόνους εκτέλεσης για τις δύο υλοποιήσεις. Για την έτοιμη υλοποίηση του sklearn δοκιμάστε και το σύνολο x_train_r όπου είναι στρογγυλοποιήμενα τα pixels και το σύνολο x_train οπου παίρνουν συνεχείς τιμές. Σχολιάστε την επίδοση σε κάθε περίπτωση. Ποιες από τις παραδοχές που κάναμε δεν ισχύουν;"
      ]
    },
    {
      "cell_type": "code",
      "metadata": {
        "colab": {
          "base_uri": "https://localhost:8080/"
        },
        "id": "Lz-k1DL-bG9v",
        "outputId": "99c3c065-0d8b-4b80-925d-d6b2dee54805"
      },
      "source": [
        "%%time\n",
        "nb = NaiveBayes(x_train_r,y_train)\n",
        "preds = [ nb.predict(i) for i in x_test_r[:100]]"
      ],
      "execution_count": 55,
      "outputs": [
        {
          "output_type": "stream",
          "text": [
            "CPU times: user 1min 13s, sys: 15.4 ms, total: 1min 13s\n",
            "Wall time: 1min 13s\n"
          ],
          "name": "stdout"
        }
      ]
    },
    {
      "cell_type": "code",
      "metadata": {
        "colab": {
          "base_uri": "https://localhost:8080/"
        },
        "id": "tHoJZC5RbK60",
        "outputId": "76d5a68d-3ebe-4dd8-a021-4cc10598ee69"
      },
      "source": [
        "%%time\n",
        "gnb = GaussianNB()\n",
        "y_pred = gnb.fit(x_train, y_train).predict(x_test[:100])"
      ],
      "execution_count": 56,
      "outputs": [
        {
          "output_type": "stream",
          "text": [
            "CPU times: user 307 ms, sys: 885 µs, total: 308 ms\n",
            "Wall time: 309 ms\n"
          ],
          "name": "stdout"
        }
      ]
    },
    {
      "cell_type": "code",
      "metadata": {
        "colab": {
          "base_uri": "https://localhost:8080/"
        },
        "id": "H2CMtUYtIJBl",
        "outputId": "763527cb-b7ce-40aa-dd04-5647ea8f1212"
      },
      "source": [
        "%%time\n",
        "gnb = GaussianNB(var_smoothing=0.1)\n",
        "y_pred = gnb.fit(x_train, y_train).predict(x_test[:100])"
      ],
      "execution_count": 57,
      "outputs": [
        {
          "output_type": "stream",
          "text": [
            "CPU times: user 317 ms, sys: 0 ns, total: 317 ms\n",
            "Wall time: 319 ms\n"
          ],
          "name": "stdout"
        }
      ]
    },
    {
      "cell_type": "code",
      "metadata": {
        "colab": {
          "base_uri": "https://localhost:8080/"
        },
        "id": "nSycnqHjIKIw",
        "outputId": "5b202514-b8f6-4d1f-8eb2-ab91001e7018"
      },
      "source": [
        "%%time\n",
        "mnb = MultinomialNB()\n",
        "y_pred = mnb.fit(x_train, y_train).predict(x_test[:100])"
      ],
      "execution_count": 58,
      "outputs": [
        {
          "output_type": "stream",
          "text": [
            "CPU times: user 127 ms, sys: 12.9 ms, total: 140 ms\n",
            "Wall time: 93 ms\n"
          ],
          "name": "stdout"
        }
      ]
    },
    {
      "cell_type": "markdown",
      "metadata": {
        "id": "SAmP4BrCbOB9"
      },
      "source": [
        "## Σχολιασμός\n",
        "\n",
        "Συγκεντρωτικά, έχουμε τα εξής πειραματικά αποτελέσματα:\n",
        "\n",
        "1) **Manual** Υλοποίηση Naive Bayes: \\\n",
        "\n",
        " accuracy: 85% \\\n",
        " average running time: 1min, 15 sec \\\n",
        "\n",
        " 2) Έτοιμη υλοποίηση της **sklearn** με κατανομή **Gauss** και καμία επιπλέον παραμετροποίηση: \\\n",
        "\n",
        " accuracy: 59% \\\n",
        " average running time: less than half a sec \\\n",
        "\n",
        " 3) Έτοιμη υλοποίηση της **sklearn** με κατανομή **Gauss** και **smoothing variance = 0.1**: \\\n",
        "\n",
        " accuracy: 81% \\\n",
        " average running time: less than half a sec \\\n",
        "\n",
        " 4) Έτοιμη υλοποίηση της **sklearn** με κατανομή **Multinomial**: \\\n",
        "\n",
        " accuracy: 80% \\\n",
        " average running time: less than half a sec \\\n",
        "\n",
        " Για την χρήση του ταξινομητή naive Bayes στρογγυλοποιούμε τα pixel των εικόνων. Αυτό, παρατηρούμε πως για μια κατανομή **Gauss**, χωρίς επιπλέον παραμετροποιήσεις οδηγεί σε χαμηλές τιμές των μετρικών επίδοσης σε σχέση με την manual υλοποίησή μας. \\\n",
        "\n",
        "Στη συνέχεια, η κατάλληλη ρύθμιση της **smoothing variance parameter** στην Gaussian κατανομή αυξάνει σημαντικά την επίδοση, φτάνοντας (σχεδόν) τις τιμές της δικής μας υλοποίησης. Όμοια βελτίωση στην επίδοση του ταξινομητή της **sklearn**, επιτυγχάνεται με χρήση **Multinomial** κατανομής. \\\n",
        "\n",
        "Τέλος, οι χρόνοι των **sklearn** υλοποιήσεων είναι σημαντικά μικρότεροι από αυτόν της δικής μας υλοποίησης, σε κάθε περίπτωση.\n"
      ]
    },
    {
      "cell_type": "markdown",
      "metadata": {
        "id": "Vvw-OUkjbRb9"
      },
      "source": [
        "#4ο Μέρος: Multi-Layer Perceptron \n",
        "\n",
        "Σε αυτό το σημείο της άσκησης θα επιλύσετε το παραπάνω πρόβλημα κατασκευάζοντας ένα πολύεπίπεδο νευρωνικό δίκτυο. Αρχικά θα υλοποιήσετε το νευρωνικό χωρίς να χρησιμοποιήσετε κάποια έτοιμη κλάση κάποιας βιβλιοθήκης (όπως sckit-learn, keras), ενώ στην συνέχεια θα κατασκευάσετε το ίδιο σύστημα με την χρήση της βιβλιοθήκης sckit-learn. "
      ]
    },
    {
      "cell_type": "markdown",
      "metadata": {
        "id": "vovDwSIPbTiE"
      },
      "source": [
        "Στο παρακάτω κελί κώδικα σας δίνεται η βασική δομή του επιπέδου ενός πολυεπίπεδου νευρωνικού δικτύου. Η παρακάτω κλάση δεν υλοποιεί κάποιο πραγματικό επίπεδο (όπως Dense) αλλά αυτή χρησιμοποιείται για την παρουσίαση των λειτουργιών κάθε επιπέδου.\n",
        "\n",
        "Ουσιαστικά κάθε επίπεδο ενός νευρωνικού δικτύου πρέπει να είναι σε θέση να κάνει: \n",
        "\n",
        "\n",
        "1.   Για μια είσοδο να υπολογίζει την έξοδο κάθε νευρώνα. Αυτό επιτυγχάνεται μέσω της μεθόδου forward η όποια δέχεται ως όρισμα μια είσοδο  και επιστρέφει έναν πίνακα με τις εξόδους κάθε νευρώνα του επιπέδου. \n",
        "\n",
        "2.   Να υπολογίζει τις μεταβολές οι όποιες πρέπει να γίνουν στα βάρη κάθε επιπέδου, ανάλογα με το πόσο καλά- κοντινά ήταν τα αποτελέσματα του επιπέδου στα πραγματικά. Η λειτουργία αυτή θα μας βοηθήσει την ανανέωση των βαρών του δικτύου και συνεπώς στην σωστή εκπαίδευσή του. Η λειτουργικότητα αυτή επιτυγχάνεται μέσω της μεθόδου backward. \n",
        "\n",
        "  \n",
        "\n",
        "Η λειτουργικότητα συνεπώς κάθε επιπέδου καθορίζεται από την συνάρτηση που υλοποιείται στην μέθοδο forward. Ένα instance της παρακάτω κλάσης συνεπώς  επιστρέφει ως έξοδο την είσοδο κάθε νευρώνα (ταυτοτική συνάρτηση) όποτε δεν προσφέρει κάποια υψηλή λειτουργικότητα. Στην παρακάτω κλάση δεν έχετε να προσθέσετε κάτι, απλά να μελετήσετε και να καταλάβετε την δομή που πρέπει να έχει ένα επίπεδο. "
      ]
    },
    {
      "cell_type": "code",
      "metadata": {
        "id": "jgx1VIMmbMQP"
      },
      "source": [
        "class Layer:\n",
        "    def __init__(self):\n",
        "        \"\"\"Here we can initialize layer parameters (if any) and auxiliary stuff.\"\"\"\n",
        "        # A dummy layer does nothing\n",
        "        pass\n",
        "    \n",
        "    def forward(self, input):\n",
        "        \"\"\"\n",
        "        Takes input data of shape [batch, input_units], returns output data [batch, output_units]\n",
        "        \"\"\"\n",
        "        # A dummy layer just returns whatever it gets as input.\n",
        "        return input\n",
        "\n",
        "    def backward(self, input, grad_output):\n",
        "        # The gradient of a dummy layer is precisely grad_output, but we'll write it more explicitly\n",
        "        num_units = input.shape[1]\n",
        "        \n",
        "        d_layer_d_input = np.eye(num_units) #diagonal matrix\n",
        "        \n",
        "        return np.dot(grad_output, d_layer_d_input) # chain rule"
      ],
      "execution_count": 59,
      "outputs": []
    },
    {
      "cell_type": "markdown",
      "metadata": {
        "id": "r1iQCroAbV-F"
      },
      "source": [
        "Στο σημείο αυτό αξίζει να αναφερθεί ότι για την σωστή εκπαίδευση του δικτύου (σε πρακτικό επίπεδο) πρέπει να διαχωριστεί η έξοδος κάθε νευρώνα πριν και μετά την συνάρτηση ενεργοποίησης. Έτσι η παραπάνω μέθοδος forward της κλάσης layer πρέπει να υπολογίζει την έξοδο του επιπέδου χωρίς την συνάρτηση ενεργοποίησης και κάποια άλλη κλάση να υπολογίζει το αποτέλεσμα με αυτή.  \n",
        "\n",
        "  \n",
        "\n",
        "Έκτος όμως από την εκπαίδευση του δικτύου, ο διαχωρισμός αυτός μας βοηθά σημαντικά και κατά την φάση σχεδιασμού της  αρχιτεκτονικής μιας και μας δίνει την δυνατότητα να αλλάζουμε την συνάρτηση ενεργοποίησης χωρίς κάθε φόρα να πρέπει να αλλάξουμε ολόκληρη την κλάση layer. Για τους παραπάνω λόγους θα χειριζόμαστε την συνάρτηση ενεργοποίησης σαν ένα ξεχωριστό επίπεδο με τις δικές της μεθόδους: forward, backward.  \n",
        "\n",
        "  \n",
        "\n",
        "Παρακάτω παρουσιάζεται η κλάση η όποια υλοποιεί την λειτουργικότητα της συνάρτησης ενεργοποίησης [ReLU](https://en.wikipedia.org/wiki/Rectifier_(neural_networks)).  \n",
        "\n",
        "  \n",
        "\n",
        "Με την ίδια λογική μπορούμε να υλοποιήσουμε οποιαδήποτε άλλη συνάρτηση ενεργοποίησης θέλουμε π.χ. sigmoid, tanh κ.ο.κ. και επιπλέον μπορούμε να τις εναλλάσσουμε μεταξύ επιπέδων χωρίς δυσκολία. "
      ]
    },
    {
      "cell_type": "code",
      "metadata": {
        "id": "6P33228VbYIf"
      },
      "source": [
        "class ReLU(Layer):\n",
        "    def __init__(self):\n",
        "        \"\"\"ReLU layer simply applies elementwise rectified linear unit to all inputs\"\"\"\n",
        "        pass\n",
        "    \n",
        "    def forward(self, input):\n",
        "        \"\"\"Apply elementwise ReLU to [batch, input_units] matrix\"\"\"\n",
        "        relu_forward = np.maximum(0,input)\n",
        "        return relu_forward\n",
        "    \n",
        "    def backward(self, input, grad_output):\n",
        "        \"\"\"Compute gradient of loss w.r.t. ReLU input\"\"\"\n",
        "        relu_grad = input > 0\n",
        "        return grad_output*relu_grad"
      ],
      "execution_count": 60,
      "outputs": []
    },
    {
      "cell_type": "markdown",
      "metadata": {
        "id": "Rrrub_76ba19"
      },
      "source": [
        "Η κλάση Dense υλοποιεί ένα επίπεδο dense όπου η έξοδος κάθε νευρώνα (χωρίς τη  συνάρτηση ενεργοποίησης) υπολογίζεται από την παρακάτω εξίσωση: \n",
        "\n",
        "  \n",
        "\n",
        "  \n",
        "\n",
        "$$ z(x) = w^Τx + b $$ \n",
        "\n",
        "  \n",
        "\n",
        "όπου $w$, $b$ είναι τα βάρη του επιπέδου.   \n",
        "\n",
        "  \n",
        "\n",
        "Συνεπώς το δίκτυο είναι απαραίτητοί να διατηρεί 2 τους δυο πίνακες με τα βάρη οι όποιο στην μέθοδο forward θα χρησιμοποιούνται για τον υπολογισμό της εξόδου και θα ανανεώνονται από την μέθοδο backward. Οι πίνακες αυτοί δημιουργούνται κατά την κατασκευή κάθε στιγμιότυπου και αρχικοποιούνται, ο πρώτος τυχαία και ο δεύτερος με μηδενικά.  Στο σημείο αυτό καλείστε να συμπληρώσετε την μέθοδο forward με κατάλληλο τρόπο ώστε να επιτυγχάνεται επιθυμητή λειτουργικότητα. "
      ]
    },
    {
      "cell_type": "code",
      "metadata": {
        "id": "HEnuIuOHbZge"
      },
      "source": [
        "class Dense(Layer):\n",
        "    def __init__(self, input_units, output_units, learning_rate=0.1):\n",
        "        \"\"\"\n",
        "        Weight Initialization\n",
        "        \"\"\"\n",
        "        self.input_units = input_units\n",
        "        self.output_units = output_units\n",
        "        \n",
        "        self.learning_rate = learning_rate\n",
        "        self.weights = np.random.normal(loc=0.0, \n",
        "                                        scale = np.sqrt(2/(input_units+output_units)), \n",
        "                                        size = (input_units,output_units))\n",
        "        self.biases = np.zeros(output_units)\n",
        "        \n",
        "    def forward(self,input):\n",
        "        \"\"\"\n",
        "        Perform an affine transformation:\n",
        "        f(x) = <W*x> + b\n",
        "        \n",
        "        input shape: [number of inputs, input units]\n",
        "        output shape: [number of inputs, output units]\n",
        "        \"\"\"\n",
        "        ###################\n",
        "        ## Your code below\n",
        "        ## hint: numpy.dot\n",
        "        output = np.dot(input,self.weights) + self.biases\n",
        "        ## Your code above\n",
        "        ##################\n",
        "        return output\n",
        "    \n",
        "    def backward(self,input,grad_output):\n",
        "        # compute d f / d x = d f / d dense * d dense / d x\n",
        "        # where d dense/ d x = weights transposed\n",
        "        grad_input = np.dot(grad_output, self.weights.T)\n",
        "        \n",
        "        # compute gradient w.r.t. weights and biases\n",
        "        grad_weights = np.dot(input.T, grad_output)\n",
        "        grad_biases = grad_output.mean(axis=0)*input.shape[0]\n",
        "        \n",
        "        assert grad_weights.shape == self.weights.shape and grad_biases.shape == self.biases.shape\n",
        "        \n",
        "        # Here we perform a stochastic gradient descent step. \n",
        "        self.weights = self.weights - self.learning_rate * grad_weights\n",
        "        self.biases = self.biases - self.learning_rate * grad_biases\n",
        "        \n",
        "        return grad_input"
      ],
      "execution_count": 61,
      "outputs": []
    },
    {
      "cell_type": "markdown",
      "metadata": {
        "id": "Ml2jvLeybeRe"
      },
      "source": [
        "Οι παρακάτω συναρτήσεις χρησιμοποιούνται για να μπορεί το δίκτυο να ελέγχει πόσο κοντά βρίσκονται τα αποτελέσματα του στα πραγματικά (Loss function). Όπως είναι λογικό υπάρχουν διαφορετικές τέτοιες συναρτήσεις ανάλογα το πρόβλημα που καλείται να λύσει το δίκτυο. Η παρακάτω συνάρτηση ονομάζεται [softmax](https://en.wikipedia.org/wiki/Softmax_function) και χρησιμοποιείται κατά κύριο λόγο σε προβλήματα ταξινόμησης όπως το συγκεκριμένο. Η softmax δέχεται σαν είσοδο τις ενεργοποιήσεις του τελευταίου επιπέδου και επιστρέφει μια κατανομή πιθανοτήτων για κάθε μια από τις κλάσεις εξόδου (π.χ. κλάση 0 έχει πιθανότητα 0.001,  η κλάση 1 έχει 0.9 κ.ο.κ.).  "
      ]
    },
    {
      "cell_type": "code",
      "metadata": {
        "id": "qT7nl_1Gbc0B"
      },
      "source": [
        "def softmax_crossentropy_with_logits(logits,reference_answers):\n",
        "    \"\"\"Compute crossentropy from logits[batch,n_classes] and ids of correct answers\"\"\"\n",
        "    logits_for_answers = logits[np.arange(len(logits)),reference_answers]\n",
        "    xentropy = - logits_for_answers + np.log(np.sum(np.exp(logits),axis=-1))\n",
        "    return xentropy\n",
        "\n",
        "def grad_softmax_crossentropy_with_logits(logits,reference_answers):\n",
        "    \"\"\"Compute crossentropy gradient from logits[batch,n_classes] and ids of correct answers\"\"\"\n",
        "    ones_for_answers = np.zeros_like(logits)\n",
        "    ones_for_answers[np.arange(len(logits)),reference_answers] = 1\n",
        "    \n",
        "    softmax = np.exp(logits) / np.exp(logits).sum(axis=-1,keepdims=True)\n",
        "    \n",
        "    return (- ones_for_answers + softmax) / logits.shape[0]"
      ],
      "execution_count": 62,
      "outputs": []
    },
    {
      "cell_type": "markdown",
      "metadata": {
        "id": "5XnSJjxYbhdX"
      },
      "source": [
        "Έχοντας υλοποιήσει τις κλάσεις Dense και ReLU μπορούμε πλέον να κατασκευάσουμε μια κλάση η όποια θα ορίζει ένα πολυεπίπεδο νευρωνικό δίκτυο (MLP). Το δίκτυο αυτό ουσιαστικά αποτελείται από μια ακολουθία Dense επιπέδων όπου το κάθε ένα (εκτός του τελευταίου) ακολουθείται από μια μη-γραμμική συνάρτηση ενεργοποίησης (ReLU). Όμοια με πριν, η κλάση αυτή πρέπει να περιέχει μια μέθοδο forward η όποια θα δέχεται μια είσοδο (εδώ μια εικόνα flatten) και θα επιστρέφει μια έξοδο (εδώ μια κατανομή 10 πιθανοτήτων). Παράλληλα πρέπει να περιέχει και μια μέθοδο fit, η όποια θα εκπαιδεύει το δίκτυο δεδομένου ενός τέτοιου συνόλου (εδώ του x_train). Στο σημείο αυτό χρησιμοποιούνται οι μέθοδοι backward που έχουν οριστεί για κάθε ένα επίπεδο (δεν χρειάζεται να συμπληρώσετε κάτι).  Τέλος θα ήταν βοηθητικό να έχουμε και μια μέθοδο η όποια θα μετατρέπει την κατανομή εξόδου στην επιστρεφόμενη κλάση (predict) για κάποιο ή κάποια στιγμιότυπα του συνόλου δεδομένων.   \n",
        "\n",
        "Το δίκτυο όπως αναφέρθηκε και προηγουμένως αποτελείται από έναν αριθμό Dense επιπέδων κάθε ένα από τα όποια ακολουθείται από μια συνάρτηση ReLU. Η κατασκευή των επιπέδων γίνεται κατά την στιγμή δημιουργίας του δικτύου, όπου δίνεται ως είσοδος μια λίστα με το μέγεθος κάθε επιπέδου, μαζί με το μέγεθος εισόδου (εδώ 28*28). Έτσι για παράδειγμα η παρακάτω γραμμή κώδικα:  \n",
        "``` \n",
        "net = MLP([100, 200, 100, 10], 784)  \n",
        "```  \n",
        "κατασκευάζει ένα MLP το όποιο αποτελείται από 4 επίπεδα με μέγεθος 100, 200, 100, 10. Ο αριθμός των επιπέδων καθώς και του μεγέθους καθενός από αυτά είναι ελεύθερος να οριστεί από τον χρήστη.   \n",
        "Στον constructor της κλάσης ουσιαστικά ορίζεται μια λίστα η όποια περιέχει κάθε ένα από τα επίπεδα που πρέπει να οριστούν, π.χ. για το παραπάνω παράδειγμα η μεταβλητή net.network περιέχει τα εξής στιγμιότυπα των κλάσεων:  \n",
        "\n",
        "``` \n",
        "[Dense(100), ReLU(), Dense(200), ReLU(), Dense(100), ReLU(), Dense(10)]  \n",
        "```  \n",
        "\n",
        "Συνεπώς η λειτουργικότητα του δικτύου όπως και πριν πρέπει να οριστεί στην μέθοδο forward. Στο σημείο αυτό καλείστε να συμπληρώσετε την μέθοδο αυτή έτσι ώστε το δίκτυο να λειτουργεί όπως πρέπει, δηλαδή στο παράδειγμά μας η είσοδος να περνά από το επίπεδο Dense(100), μετά από το ReLU(), στην συνέχεια από το Dense(200) κ.ο.κ. μέχρι και το τελευταίο επίπεδο.  Ο αλγόριθμος αυτός παρουσιάζεται και σε ψευδοκώδικα στην διαφάνεια 33 του μαθήματος. "
      ]
    },
    {
      "cell_type": "code",
      "metadata": {
        "id": "MHHcg1unbf21"
      },
      "source": [
        "class MLP:\n",
        "    def __init__(self, shapes, input_dim):\n",
        "        '''\n",
        "        Κατασκευή του MLP. Τα επίπεδα και το μέγεθός τους ορίζεται από την μεταβλήτη shape, ενώ\n",
        "        το μέγεθος της εισόδου ορίζεται από την μεταβλήτη input_dim\n",
        "        '''\n",
        "        self.shapes = shapes\n",
        "        self.network = [Dense(input_dim, shapes[0])]\n",
        "        self.network.append(ReLU())\n",
        "        for i in range(1, len(self.shapes) - 1):\n",
        "            self.network.append(Dense(shapes[i-1],shapes[i]))\n",
        "            self.network.append(ReLU())\n",
        "        self.network.append(Dense(shapes[i],shapes[-1]))\n",
        "\n",
        "    def forward(self, X):\n",
        "        \"\"\"\n",
        "        Αγόριθμος διφάνειας 33\n",
        "        \"\"\"\n",
        "        activations = []\n",
        "        input = X\n",
        "        # Looping through each layer\n",
        "        for l in self.network:\n",
        "            ###################\n",
        "            ## Your code below\n",
        "            # hint: τροφοδοτούμε την έξοδο κάθε επιπέδου στο επόμενο\n",
        "            input = l.forward(input)\n",
        "            activations.append(input)\n",
        "            ## Your code above\n",
        "            ##################        \n",
        "        assert len(activations) == len(self.network)\n",
        "        return activations\n",
        "\n",
        "    def predict(self,X):\n",
        "        \"\"\"\n",
        "        Προβλέπει την έξοδο του δικτύου για ένα ή περισσότερα στιγμιότυπα εισόδου\n",
        "        \"\"\"\n",
        "        logits = self.forward(X)[-1]\n",
        "        return logits.argmax(axis=-1)\n",
        "\n",
        "    def fit(self, X, y):\n",
        "        # Get the layer activations\n",
        "        layer_activations = self.forward(X)\n",
        "        layer_inputs = [X]+layer_activations  #layer_input[i] is an input for network[i]\n",
        "        logits = layer_activations[-1]\n",
        "        \n",
        "        # Compute the loss and the initial gradient\n",
        "        loss = softmax_crossentropy_with_logits(logits,y)\n",
        "        loss_grad = grad_softmax_crossentropy_with_logits(logits,y)\n",
        "        \n",
        "        # Propagate gradients through the network\n",
        "        # Reverse propogation as this is backprop\n",
        "        for layer_index in range(len(self.network))[::-1]:\n",
        "            layer = self.network[layer_index]\n",
        "            loss_grad = layer.backward(layer_inputs[layer_index],loss_grad) #grad w.r.t. input, also weight updates\n",
        "        return np.mean(loss)"
      ],
      "execution_count": 63,
      "outputs": []
    },
    {
      "cell_type": "markdown",
      "metadata": {
        "id": "6zCBcKqvbm4t"
      },
      "source": [
        "## Αξιολόγηση ενός Multi-Layer Perceptron\n",
        "\n",
        "Αφού έχουμε κατασκευάσει τα παραπάνω είμαστε πλέον σε θέση να εκπαιδεύσουμε το MLP. Αυτό γίνεται καλώντας την μέθοδο fit. Στο παρακάτω κελί κώδικα ορίζεται το MLP του παραπάνω παραδείγματος και εκπαιδεύεται για 25 εποχές. Στο τέλος κάθε εποχής παρουσιάζονται τα αποτελέσματα του μαζί με μια γραφική των train και test accuracy. "
      ]
    },
    {
      "cell_type": "code",
      "metadata": {
        "id": "4jw-8qN6bjQG",
        "colab": {
          "base_uri": "https://localhost:8080/",
          "height": 1000
        },
        "outputId": "482dea53-1cb1-455f-e11e-9c662cc38147"
      },
      "source": [
        "from IPython.display import clear_output\n",
        "import numpy as np\n",
        "\n",
        "network = MLP([100, 200, 100, 10], 28*28)\n",
        "\n",
        "train_log = []\n",
        "val_log = []\n",
        "\n",
        "# Αυτά πρέπει να τρέχουν αφού έχετε φτιάξει σωστά τον κώδικα της MLP\n",
        "for epoch in range(41):\n",
        "     network.fit(x_train,y_train)\n",
        "    \n",
        "     train_log.append(np.mean(network.predict(x_train)==y_train))\n",
        "     val_log.append(np.mean(network.predict(x_test)==y_test))\n",
        "    \n",
        "     clear_output()\n",
        "     print(\"Epoch\",epoch)\n",
        "     print(\"Train accuracy:\",train_log[-1])\n",
        "     print(\"Val accuracy:\",val_log[-1])\n",
        "     plt.plot(train_log,label='train accuracy')\n",
        "     plt.plot(val_log,label='val accuracy')\n",
        "     plt.legend(loc='best')\n",
        "     plt.grid()\n",
        "     plt.show()\n",
        "\n",
        "y_pred = network.predict(x_test)\n",
        "\n",
        "eval = Evaluate(y_test, y_pred, x_test)\n",
        "eval.get_evaluation_report()"
      ],
      "execution_count": 64,
      "outputs": [
        {
          "output_type": "stream",
          "text": [
            "Epoch 40\n",
            "Train accuracy: 0.81555\n",
            "Val accuracy: 0.8255\n"
          ],
          "name": "stdout"
        },
        {
          "output_type": "display_data",
          "data": {
            "image/png": "[encoded data removed]",
            "text/plain": [
              "<Figure size 432x288 with 1 Axes>"
            ]
          },
          "metadata": {
            "tags": [],
            "needs_background": "light"
          }
        },
        {
          "output_type": "stream",
          "text": [
            "precision : 0.8260093965618298\n",
            "recall : 0.8215562707645943\n",
            "f1 : 0.8207095324564502\n",
            "accuracy : 0.8255\n",
            "Confusion matrix: \n",
            "[[ 941    0    1    6    0    8   16    1    7    0]\n",
            " [   0 1092   14    7    1    1    2    0   17    1]\n",
            " [  22   50  769   21   23    3   58   17   62    7]\n",
            " [   8    6   21  867    0   20    2   31   47    8]\n",
            " [   0    9    5    0  807    1   26    7   14  113]\n",
            " [  31   35   22  142   20  538   21   18   36   29]\n",
            " [  37    7   61    3   27   11  809    0    3    0]\n",
            " [   5   37   13    0    6    1    0  881   27   58]\n",
            " [  16   30   43   49   18   35    7   21  733   22]\n",
            " [  10    9    3   12   55    9   10   70   13  818]]\n",
            "Some images with wrong predictions\n"
          ],
          "name": "stdout"
        },
        {
          "output_type": "display_data",
          "data": {
            "image/png": "[encoded data removed]",
            "text/plain": [
              "<Figure size 720x720 with 20 Axes>"
            ]
          },
          "metadata": {
            "tags": [],
            "needs_background": "light"
          }
        }
      ]
    },
    {
      "cell_type": "markdown",
      "metadata": {
        "id": "ygud3NX3b-wN"
      },
      "source": [
        "## Έτοιμο Multi-Layer Perceptron \n",
        "\n",
        "Όπως και με τις τεχνικές των παραπάνω ερωτημάτων έτσι και εδώ υπάρχει έτοιμη η παραπάνω κλάση σε διάφορες βιβλιοθήκες. Έτσι στο δεύτερο μέρος του ερωτήματος αυτού θα κατασκευάσετε το ίδιο MLP χρησιμοποιώντας όμως την έτοιμη κλάση [MLPClassifier](https://scikit-learn.org/stable/modules/generated/sklearn.neural_network.MLPClassifier.html)  της βιβλιοθήκης scikit-learn. Παρακάτω παρουσιάζεται ένα παράδειγμα χρήσης της κλάσης αυτής. "
      ]
    },
    {
      "cell_type": "code",
      "metadata": {
        "colab": {
          "base_uri": "https://localhost:8080/",
          "height": 863
        },
        "id": "hltXBE2Vbojo",
        "outputId": "c762e8ef-cf52-4eb5-89ac-a1d19b05c712"
      },
      "source": [
        "from sklearn.neural_network import MLPClassifier\n",
        "\n",
        "epochs = 40\n",
        "mlp = MLPClassifier(hidden_layer_sizes=(100, 200, 100), max_iter = epochs)\n",
        "\n",
        "mlp.fit(x_train,y_train)\n",
        "\n",
        "y_pred = mlp.predict(x_test)\n",
        "eval = Evaluate(y_test, y_pred, x_test)\n",
        "eval.get_evaluation_report()"
      ],
      "execution_count": 65,
      "outputs": [
        {
          "output_type": "stream",
          "text": [
            "precision : 0.971271064976168\n",
            "recall : 0.9709249004631216\n",
            "f1 : 0.9710804107208594\n",
            "accuracy : 0.9713\n",
            "Confusion matrix: \n",
            "[[ 965    1    0    0    1    3    5    1    2    2]\n",
            " [   0 1124    3    1    0    0    3    1    3    0]\n",
            " [   4    1 1008    3    1    0    2    6    6    1]\n",
            " [   0    3    7  973    0    7    1    7    9    3]\n",
            " [   1    0    5    0  951    1    5    2    1   16]\n",
            " [   2    0    1    8    3  859   10    1    4    4]\n",
            " [   6    4    4    3    6    3  930    1    1    0]\n",
            " [   0    5    9    4    0    0    0  999    1   10]\n",
            " [   5    1    7    9    4    4    3    6  930    5]\n",
            " [   2    5    1    8   10    1    0    3    5  974]]\n",
            "Some images with wrong predictions\n"
          ],
          "name": "stdout"
        },
        {
          "output_type": "display_data",
          "data": {
            "image/png": "[encoded data removed]",
            "text/plain": [
              "<Figure size 720x720 with 20 Axes>"
            ]
          },
          "metadata": {
            "tags": [],
            "needs_background": "light"
          }
        }
      ]
    },
    {
      "cell_type": "markdown",
      "metadata": {
        "id": "DOQYML9wcDBk"
      },
      "source": [
        "## Σύγκριση υλοποιήσεων \n",
        "\n",
        "  \n",
        "\n",
        "Στα παρακάτω κελιά πειραματιστείτε με τις δύο υλοποιήσεις (τη δική σας και την έτοιμη). Συγκρίνετε τα αποτελέσματά σας τόσο ως προς τους χρόνους εκτέλεσης αλλά και ως προς τα αποτελέσματα. Η διαφορά των αποτελεσμάτων προκύπτει από το ότι στην έτοιμη κλάση έχουν γίνει αρκετές βελτιστοποιήσεις στην λειτουργία, στον τρόπο εκπαίδευσης κ.α. με αποτέλεσμα να προκύπτουν καλύτερα αποτέλεσμα. Παρόλα αυτά στην δική μας κλάση έχουμε καλύτερο έλεγχο και έχουμε την δυνατότητα να σχεδιάσουμε πιο σύνθετες αρχιτεκτονικές καθώς να αλλάξουμε τις τιμές παραμέτρων που στην έτοιμη κλάση μπορεί να μην μας δίνεται η δυνατότητα. "
      ]
    },
    {
      "cell_type": "code",
      "metadata": {
        "colab": {
          "base_uri": "https://localhost:8080/"
        },
        "id": "5u5NiixyYg2H",
        "outputId": "a7d603fc-0db5-4ff9-8b04-f2bdd7fbdc67"
      },
      "source": [
        "%%time\n",
        "# Our DNN\n",
        "network = MLP([100, 200, 100, 10], 28*28)\n",
        "train_log = []\n",
        "val_log = []\n",
        "for epoch in range(41):\n",
        "     network.fit(x_train,y_train)"
      ],
      "execution_count": 66,
      "outputs": [
        {
          "output_type": "stream",
          "text": [
            "CPU times: user 53.9 s, sys: 7.11 s, total: 1min\n",
            "Wall time: 30.9 s\n"
          ],
          "name": "stdout"
        }
      ]
    },
    {
      "cell_type": "code",
      "metadata": {
        "colab": {
          "base_uri": "https://localhost:8080/"
        },
        "id": "GNusjEhMYg2H",
        "outputId": "3757575b-95bc-48f3-af8b-2391fd2b4a22"
      },
      "source": [
        "%%time\n",
        "# sklearn DNN\n",
        "from sklearn.neural_network import MLPClassifier\n",
        "epochs = 40\n",
        "mlp = MLPClassifier(hidden_layer_sizes=(100, 200, 100), max_iter = epochs)\n",
        "mlp.fit(x_train,y_train)"
      ],
      "execution_count": 67,
      "outputs": [
        {
          "output_type": "stream",
          "text": [
            "CPU times: user 56.1 s, sys: 21.4 s, total: 1min 17s\n",
            "Wall time: 39.3 s\n"
          ],
          "name": "stdout"
        }
      ]
    },
    {
      "cell_type": "markdown",
      "metadata": {
        "id": "RlYf4xGiYg2I"
      },
      "source": [
        "## Σχολιασμός\n",
        "\n",
        "Συγκεντρωτικά, έχουμε τα εξής πειραματικά αποτελέσματα για 40 εποχές:\n",
        "\n",
        "1) **Manual** Υλοποίηση Multi Layer Perceptron Classifier: \\\n",
        "\n",
        " accuracy: 80% \\\n",
        " average running time: 1min \\\n",
        "\n",
        " 2) Έτοιμη υλοποίηση Multi Layer Perceptron Classifier της **sklearn**: \\\n",
        "\n",
        " accuracy: 97% \\\n",
        " average running time: 1min 30sec \\"
      ]
    },
    {
      "cell_type": "markdown",
      "metadata": {
        "id": "gfrx064gcCr8"
      },
      "source": [
        "# Αξιολόγηση- Συμπεράσματα \n",
        "\n",
        "  \n",
        "\n",
        "Τέλος στο σημείο αυτό καλείστε να αξιολογήσετε τις διάφορες τεχνικές ταξινόμησης (KNN, Naive Bayes, MLP), τα αποτελέσματά τους, τους χρόνους καθώς και να παραθέσετε παρατηρήσεις καθώς και οτιδήποτε σας φάνηκε ενδιαφέρον ή ιδιαίτερο. \\\n",
        "\n",
        "# Συνολική αξιολόγηση - σύγκριση\n",
        "\n",
        "Όσον αφορά στην **αποτελεσματικότητα** των μεθόδων ως προς την ορθότητα ταξινόμησης, διαπιστώνουμε ότι συνολικά:\n",
        "\n",
        "1)  Ο **KNN** ταξινομητής έχει τα καλύτερα αποτελέσματα ταξινόμησης για το συγκεκριμένο σύνολο δεδομένων\n",
        "\n",
        "2) Ακολουθεί ο **MultiLayer Perceptron** με λίγο χαμηλότερο ποσοστό επιτυχίας και\n",
        "\n",
        "3) εν τέλει, ο **Naive Bayes** ταξινομητής έχει την χαμηλότερη απόδοση.\n",
        "\n",
        "Συγκρίνοντας τους ταξινομητές ως προς τον **χρόνο εκτέλεσης** της ταξινόμησης, γίνεται φανερό ότι ο **Naive Bayes** (η έτοιμη υλοποίηση) έχει με σημαντική διαφορά την καλύτερη χρονική επίδοση. Ακολουθεί ο **KNN**, ενώ τελευταίο είναι το **perceptron νευρωνικό δικτυο**, το οποίο για να εκπαιδευτεί σε διάστημα 40 εποχών απαιτεί σημαντικά μεγαλύτερο χρόνο.\n",
        "\n",
        "Από την άποψη της **δυσκολίας** της manual υλοποίησης, φανερά το MLP είναι το δυσκολότερο, εφόσον απαιτεί πολλαπλές υλοποιήσεις για τις επιμέρους συνιστώσες της κλάσης του νευρωνικού (forward, backward, ReLU). Αρκετά πιο σύντομη κι εύκολη είναι η υλοποίηση του Naive Bayes ταξινομητή, ενώ ο KNN είναι ο πιο απλός.\n",
        "\n",
        "Μετά το πέρας της παρούσας εργασίας, παρατηρούμε ότι οι έτοιμες υλοποιήσεις της βιβλιοθήκης **sklearn** δίνουν ως επί το πλήστον ικανοποιητικά αποτελέσματα ταξινόμησης σε σημαντικά μικρό χρόνο. Αυτό μας παρέχει την εξής διευκόλυνση: οι ταξινομητές μπορούν να χρησιμοποιηθούν ως μαύρα κουτιά σε ένα high level σύστημα, που απαιτεί ταξινόμηση δεδομένων ως υποεργασία, επιταχύνοντας έτσι την συνολική εργασία κι εξασφαλίζοντας υψηλές επιδόσεις χρόνου."
      ]
    }
  ]
}